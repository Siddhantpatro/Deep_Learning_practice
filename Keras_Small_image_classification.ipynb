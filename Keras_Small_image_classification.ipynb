{
  "nbformat": 4,
  "nbformat_minor": 0,
  "metadata": {
    "colab": {
      "name": "Keras_Small_image_classification.ipynb",
      "provenance": []
    },
    "kernelspec": {
      "name": "python3",
      "display_name": "Python 3"
    }
  },
  "cells": [
    {
      "cell_type": "code",
      "metadata": {
        "id": "1G5N3WSc15CY",
        "colab_type": "code",
        "colab": {}
      },
      "source": [
        "import tensorflow as tf\n",
        "from tensorflow import keras\n",
        "from tensorflow.keras import layers\n",
        "import numpy as np\n",
        "import matplotlib.pyplot as plt\n",
        "\n",
        "%matplotlib inline"
      ],
      "execution_count": 50,
      "outputs": []
    },
    {
      "cell_type": "code",
      "metadata": {
        "id": "GCtzS_E14XJa",
        "colab_type": "code",
        "colab": {}
      },
      "source": [
        "(x_train, y_train), (x_test, y_test) = keras.datasets.cifar10.load_data()"
      ],
      "execution_count": 51,
      "outputs": []
    },
    {
      "cell_type": "code",
      "metadata": {
        "id": "Oe7xqgtG6t3Z",
        "colab_type": "code",
        "colab": {
          "base_uri": "https://localhost:8080/",
          "height": 34
        },
        "outputId": "9a234368-803a-4fe2-c40f-8106c869a599"
      },
      "source": [
        "x_train.shape"
      ],
      "execution_count": 52,
      "outputs": [
        {
          "output_type": "execute_result",
          "data": {
            "text/plain": [
              "(50000, 32, 32, 3)"
            ]
          },
          "metadata": {
            "tags": []
          },
          "execution_count": 52
        }
      ]
    },
    {
      "cell_type": "code",
      "metadata": {
        "id": "TZb6FzvE6yEQ",
        "colab_type": "code",
        "colab": {
          "base_uri": "https://localhost:8080/",
          "height": 34
        },
        "outputId": "72f391a4-4521-4001-ac72-924396908aa3"
      },
      "source": [
        "y_train.shape"
      ],
      "execution_count": 53,
      "outputs": [
        {
          "output_type": "execute_result",
          "data": {
            "text/plain": [
              "(50000, 1)"
            ]
          },
          "metadata": {
            "tags": []
          },
          "execution_count": 53
        }
      ]
    },
    {
      "cell_type": "code",
      "metadata": {
        "id": "wp9UynYp61yf",
        "colab_type": "code",
        "colab": {
          "base_uri": "https://localhost:8080/",
          "height": 292
        },
        "outputId": "a76ef0c4-978a-46fc-81d6-187a8c07f7ec"
      },
      "source": [
        "plt.matshow(x_test[1])"
      ],
      "execution_count": 54,
      "outputs": [
        {
          "output_type": "execute_result",
          "data": {
            "text/plain": [
              "<matplotlib.image.AxesImage at 0x7f24a8699b38>"
            ]
          },
          "metadata": {
            "tags": []
          },
          "execution_count": 54
        },
        {
          "output_type": "display_data",
          "data": {
            "image/png": "[encoded data removed]",
            "text/plain": [
              "<Figure size 288x288 with 1 Axes>"
            ]
          },
          "metadata": {
            "tags": [],
            "needs_background": "light"
          }
        }
      ]
    },
    {
      "cell_type": "code",
      "metadata": {
        "id": "iID6eaI6B-o6",
        "colab_type": "code",
        "colab": {
          "base_uri": "https://localhost:8080/",
          "height": 292
        },
        "outputId": "c7a40dbb-2cc1-4c54-ea0c-ee3436e43080"
      },
      "source": [
        "plt.matshow(x_train[1])"
      ],
      "execution_count": 55,
      "outputs": [
        {
          "output_type": "execute_result",
          "data": {
            "text/plain": [
              "<matplotlib.image.AxesImage at 0x7f24a867c898>"
            ]
          },
          "metadata": {
            "tags": []
          },
          "execution_count": 55
        },
        {
          "output_type": "display_data",
          "data": {
            "image/png": "[encoded data removed]",
            "text/plain": [
              "<Figure size 288x288 with 1 Axes>"
            ]
          },
          "metadata": {
            "tags": [],
            "needs_background": "light"
          }
        }
      ]
    },
    {
      "cell_type": "code",
      "metadata": {
        "id": "tBPpadsZCFO9",
        "colab_type": "code",
        "colab": {
          "base_uri": "https://localhost:8080/",
          "height": 134
        },
        "outputId": "1ba428ee-dc23-46f5-e77b-8a946f5eb5c6"
      },
      "source": [
        "y_train"
      ],
      "execution_count": 56,
      "outputs": [
        {
          "output_type": "execute_result",
          "data": {
            "text/plain": [
              "array([[6],\n",
              "       [9],\n",
              "       [9],\n",
              "       ...,\n",
              "       [9],\n",
              "       [1],\n",
              "       [1]], dtype=uint8)"
            ]
          },
          "metadata": {
            "tags": []
          },
          "execution_count": 56
        }
      ]
    },
    {
      "cell_type": "code",
      "metadata": {
        "id": "mHI0TiD4U5cr",
        "colab_type": "code",
        "colab": {}
      },
      "source": [
        "model = keras.models.Sequential()\n",
        "\n",
        "inputs = keras.Input(shape=(32*32*3,))\n",
        "x = layers.Dense(200, activation=\"relu\", name=\"dense_1\")(inputs)\n",
        "x = layers.Dense(200, activation=\"relu\", name=\"dense_2\")(x)\n",
        "outputs = layers.Dense(50, activation=\"softmax\", name=\"predictions\")(x)\n",
        "\n",
        "model = keras.Model(inputs=inputs, outputs=outputs)"
      ],
      "execution_count": 57,
      "outputs": []
    },
    {
      "cell_type": "code",
      "metadata": {
        "id": "FbxioiEjCkzj",
        "colab_type": "code",
        "colab": {}
      },
      "source": [
        "x_train = x_train.reshape(50000, 3072, -1).astype(\"float32\") / 255\n",
        "x_test = x_test.reshape(10000, 3072, -1).astype(\"float32\") /255"
      ],
      "execution_count": 58,
      "outputs": []
    },
    {
      "cell_type": "code",
      "metadata": {
        "id": "I9dED589epTt",
        "colab_type": "code",
        "colab": {}
      },
      "source": [
        "y_train = y_train.astype(\"float32\")\n",
        "y_test = y_test.astype(\"float32\")"
      ],
      "execution_count": 59,
      "outputs": []
    },
    {
      "cell_type": "code",
      "metadata": {
        "id": "8glxWdDqGqZ8",
        "colab_type": "code",
        "colab": {
          "base_uri": "https://localhost:8080/",
          "height": 286
        },
        "outputId": "355b5365-1d30-4f25-9c07-0b1f1d6ea7ff"
      },
      "source": [
        "model.summary()"
      ],
      "execution_count": 60,
      "outputs": [
        {
          "output_type": "stream",
          "text": [
            "Model: \"model_1\"\n",
            "_________________________________________________________________\n",
            "Layer (type)                 Output Shape              Param #   \n",
            "=================================================================\n",
            "input_2 (InputLayer)         [(None, 3072)]            0         \n",
            "_________________________________________________________________\n",
            "dense_1 (Dense)              (None, 200)               614600    \n",
            "_________________________________________________________________\n",
            "dense_2 (Dense)              (None, 200)               40200     \n",
            "_________________________________________________________________\n",
            "predictions (Dense)          (None, 50)                10050     \n",
            "=================================================================\n",
            "Total params: 664,850\n",
            "Trainable params: 664,850\n",
            "Non-trainable params: 0\n",
            "_________________________________________________________________\n"
          ],
          "name": "stdout"
        }
      ]
    },
    {
      "cell_type": "code",
      "metadata": {
        "id": "2F4dQndEGr87",
        "colab_type": "code",
        "colab": {}
      },
      "source": [
        "from keras import optimizers\n",
        "\n",
        "model.compile(loss = keras.losses.SparseCategoricalCrossentropy(),\n",
        "              optimizer = keras.optimizers.SGD(),\n",
        "              metrics = [keras.metrics.SparseCategoricalAccuracy()])"
      ],
      "execution_count": 65,
      "outputs": []
    },
    {
      "cell_type": "code",
      "metadata": {
        "id": "kzHOjlyiHUBX",
        "colab_type": "code",
        "colab": {
          "base_uri": "https://localhost:8080/",
          "height": 706
        },
        "outputId": "40583dfc-e950-4254-a797-d7909e7403e9"
      },
      "source": [
        "model.fit(x_train,y_train, epochs = 20, batch_size=64)"
      ],
      "execution_count": 66,
      "outputs": [
        {
          "output_type": "stream",
          "text": [
            "Epoch 1/20\n",
            "782/782 [==============================] - 5s 7ms/step - loss: 0.9708 - sparse_categorical_accuracy: 0.6548\n",
            "Epoch 2/20\n",
            "782/782 [==============================] - 5s 7ms/step - loss: 0.9560 - sparse_categorical_accuracy: 0.6612\n",
            "Epoch 3/20\n",
            "782/782 [==============================] - 5s 7ms/step - loss: 0.9498 - sparse_categorical_accuracy: 0.6624\n",
            "Epoch 4/20\n",
            "782/782 [==============================] - 5s 6ms/step - loss: 0.9474 - sparse_categorical_accuracy: 0.6641\n",
            "Epoch 5/20\n",
            "782/782 [==============================] - 5s 6ms/step - loss: 0.9440 - sparse_categorical_accuracy: 0.6649\n",
            "Epoch 6/20\n",
            "782/782 [==============================] - 5s 7ms/step - loss: 0.9409 - sparse_categorical_accuracy: 0.6662\n",
            "Epoch 7/20\n",
            "782/782 [==============================] - 5s 7ms/step - loss: 0.9383 - sparse_categorical_accuracy: 0.6665\n",
            "Epoch 8/20\n",
            "782/782 [==============================] - 5s 7ms/step - loss: 0.9363 - sparse_categorical_accuracy: 0.6679\n",
            "Epoch 9/20\n",
            "782/782 [==============================] - 5s 7ms/step - loss: 0.9338 - sparse_categorical_accuracy: 0.6682\n",
            "Epoch 10/20\n",
            "782/782 [==============================] - 5s 7ms/step - loss: 0.9323 - sparse_categorical_accuracy: 0.6689\n",
            "Epoch 11/20\n",
            "782/782 [==============================] - 5s 7ms/step - loss: 0.9306 - sparse_categorical_accuracy: 0.6687\n",
            "Epoch 12/20\n",
            "782/782 [==============================] - 5s 7ms/step - loss: 0.9286 - sparse_categorical_accuracy: 0.6697\n",
            "Epoch 13/20\n",
            "782/782 [==============================] - 5s 7ms/step - loss: 0.9267 - sparse_categorical_accuracy: 0.6695\n",
            "Epoch 14/20\n",
            "782/782 [==============================] - 5s 7ms/step - loss: 0.9254 - sparse_categorical_accuracy: 0.6706\n",
            "Epoch 15/20\n",
            "782/782 [==============================] - 5s 7ms/step - loss: 0.9236 - sparse_categorical_accuracy: 0.6726\n",
            "Epoch 16/20\n",
            "782/782 [==============================] - 5s 7ms/step - loss: 0.9227 - sparse_categorical_accuracy: 0.6701\n",
            "Epoch 17/20\n",
            "782/782 [==============================] - 5s 7ms/step - loss: 0.9204 - sparse_categorical_accuracy: 0.6722\n",
            "Epoch 18/20\n",
            "782/782 [==============================] - 5s 7ms/step - loss: 0.9191 - sparse_categorical_accuracy: 0.6726\n",
            "Epoch 19/20\n",
            "782/782 [==============================] - 5s 7ms/step - loss: 0.9188 - sparse_categorical_accuracy: 0.6735\n",
            "Epoch 20/20\n",
            "782/782 [==============================] - 5s 7ms/step - loss: 0.9165 - sparse_categorical_accuracy: 0.6744\n"
          ],
          "name": "stdout"
        },
        {
          "output_type": "execute_result",
          "data": {
            "text/plain": [
              "<tensorflow.python.keras.callbacks.History at 0x7f24a73e4048>"
            ]
          },
          "metadata": {
            "tags": []
          },
          "execution_count": 66
        }
      ]
    },
    {
      "cell_type": "code",
      "metadata": {
        "id": "SivcmkioOUbE",
        "colab_type": "code",
        "colab": {
          "base_uri": "https://localhost:8080/",
          "height": 34
        },
        "outputId": "821e5d6b-9725-47d4-ea28-06f49fce0960"
      },
      "source": [
        "x_test.shape"
      ],
      "execution_count": 67,
      "outputs": [
        {
          "output_type": "execute_result",
          "data": {
            "text/plain": [
              "(10000, 3072, 1)"
            ]
          },
          "metadata": {
            "tags": []
          },
          "execution_count": 67
        }
      ]
    },
    {
      "cell_type": "code",
      "metadata": {
        "id": "jaKldPxEOUd_",
        "colab_type": "code",
        "colab": {
          "base_uri": "https://localhost:8080/",
          "height": 50
        },
        "outputId": "da519857-80fb-416d-c56d-c362e0b34090"
      },
      "source": [
        "model.evaluate(x_test, y_test)"
      ],
      "execution_count": 68,
      "outputs": [
        {
          "output_type": "stream",
          "text": [
            "313/313 [==============================] - 1s 2ms/step - loss: 1.4833 - sparse_categorical_accuracy: 0.5213\n"
          ],
          "name": "stdout"
        },
        {
          "output_type": "execute_result",
          "data": {
            "text/plain": [
              "[1.483290672302246, 0.5213000178337097]"
            ]
          },
          "metadata": {
            "tags": []
          },
          "execution_count": 68
        }
      ]
    },
    {
      "cell_type": "code",
      "metadata": {
        "id": "cwxm0oKtkOSk",
        "colab_type": "code",
        "colab": {}
      },
      "source": [
        "y_pred = model.predict(x_test)"
      ],
      "execution_count": 69,
      "outputs": []
    },
    {
      "cell_type": "code",
      "metadata": {
        "id": "d5t8WONClojf",
        "colab_type": "code",
        "colab": {}
      },
      "source": [
        "y_pred = np.array(y_pred)"
      ],
      "execution_count": 84,
      "outputs": []
    },
    {
      "cell_type": "code",
      "metadata": {
        "id": "2jdD9pYNkSdQ",
        "colab_type": "code",
        "colab": {
          "base_uri": "https://localhost:8080/",
          "height": 34
        },
        "outputId": "e6144033-96ff-4fec-aeee-d2a2e1d107c7"
      },
      "source": [
        "y_pred.shape"
      ],
      "execution_count": 85,
      "outputs": [
        {
          "output_type": "execute_result",
          "data": {
            "text/plain": [
              "(10000, 50)"
            ]
          },
          "metadata": {
            "tags": []
          },
          "execution_count": 85
        }
      ]
    },
    {
      "cell_type": "code",
      "metadata": {
        "id": "IqF7fZ7qkWpw",
        "colab_type": "code",
        "colab": {
          "base_uri": "https://localhost:8080/",
          "height": 235
        },
        "outputId": "4ce4a9fe-d08c-4002-ce4f-064ccd3f1cbd"
      },
      "source": [
        "y_pred[1]"
      ],
      "execution_count": 71,
      "outputs": [
        {
          "output_type": "execute_result",
          "data": {
            "text/plain": [
              "array([1.7383661e-03, 1.4862775e-02, 7.9846988e-04, 1.3162001e-04,\n",
              "       3.3886248e-05, 4.9097625e-06, 4.6864207e-06, 2.3527135e-05,\n",
              "       9.0265834e-01, 7.9743348e-02, 6.8848478e-31, 9.7079741e-30,\n",
              "       9.2482313e-30, 5.1181242e-30, 6.3716316e-28, 3.7287791e-29,\n",
              "       8.1862574e-31, 5.6312284e-29, 7.6518009e-30, 4.4585252e-30,\n",
              "       1.4132827e-30, 5.2783403e-28, 3.2172792e-29, 2.9553034e-30,\n",
              "       1.2811660e-30, 9.5515298e-29, 3.9973148e-29, 7.5716536e-32,\n",
              "       2.1485540e-31, 4.1723044e-31, 4.7980811e-31, 5.1733433e-29,\n",
              "       9.5248960e-29, 6.1571262e-30, 1.8919408e-28, 4.5868570e-31,\n",
              "       1.0770160e-30, 6.6900085e-28, 3.6241900e-29, 1.9392317e-28,\n",
              "       2.4254086e-30, 5.2785996e-29, 1.6783605e-29, 4.1058506e-30,\n",
              "       1.2439865e-30, 1.3391121e-28, 2.5260422e-29, 2.4275678e-28,\n",
              "       1.3091786e-30, 2.1176358e-29], dtype=float32)"
            ]
          },
          "metadata": {
            "tags": []
          },
          "execution_count": 71
        }
      ]
    },
    {
      "cell_type": "code",
      "metadata": {
        "id": "V5aVbkXXkZqF",
        "colab_type": "code",
        "colab": {
          "base_uri": "https://localhost:8080/",
          "height": 34
        },
        "outputId": "71a2bbda-c174-4482-9f3f-961507eb3ee4"
      },
      "source": [
        "np.argmax(y_pred[1])"
      ],
      "execution_count": 72,
      "outputs": [
        {
          "output_type": "execute_result",
          "data": {
            "text/plain": [
              "8"
            ]
          },
          "metadata": {
            "tags": []
          },
          "execution_count": 72
        }
      ]
    },
    {
      "cell_type": "code",
      "metadata": {
        "id": "Ma10EFBGkd6g",
        "colab_type": "code",
        "colab": {
          "base_uri": "https://localhost:8080/",
          "height": 235
        },
        "outputId": "d8cd7b8c-72fb-4f46-ced2-1d07d888d5a6"
      },
      "source": [
        "y_pred[10]"
      ],
      "execution_count": 76,
      "outputs": [
        {
          "output_type": "execute_result",
          "data": {
            "text/plain": [
              "array([7.0594132e-01, 3.5257463e-04, 9.1436803e-02, 7.6394066e-02,\n",
              "       1.2698682e-02, 2.8006958e-02, 5.2822009e-02, 2.7435429e-03,\n",
              "       2.9454803e-02, 1.4915899e-04, 4.5972431e-23, 1.2068735e-20,\n",
              "       9.2744779e-22, 1.7499655e-20, 1.3639770e-20, 2.0245675e-19,\n",
              "       7.5748070e-22, 3.6282300e-20, 7.1631529e-22, 4.1560588e-20,\n",
              "       1.9610800e-20, 2.2123240e-20, 2.4232460e-20, 2.6430925e-20,\n",
              "       1.0991721e-21, 1.6228739e-20, 3.9447516e-20, 4.3203769e-22,\n",
              "       9.4692773e-22, 2.2245321e-23, 5.2309452e-23, 1.1471258e-20,\n",
              "       2.7500485e-20, 3.0049248e-21, 2.9733317e-19, 6.6654425e-22,\n",
              "       4.6390522e-21, 8.5562601e-19, 5.3936464e-20, 2.0320874e-20,\n",
              "       2.5799933e-21, 2.0653246e-20, 6.3939575e-20, 6.4174611e-21,\n",
              "       1.5422661e-21, 9.5874474e-21, 1.5289352e-19, 8.9914726e-20,\n",
              "       1.9693543e-22, 2.6513934e-20], dtype=float32)"
            ]
          },
          "metadata": {
            "tags": []
          },
          "execution_count": 76
        }
      ]
    },
    {
      "cell_type": "code",
      "metadata": {
        "id": "rFETHJlOkjkM",
        "colab_type": "code",
        "colab": {
          "base_uri": "https://localhost:8080/",
          "height": 34
        },
        "outputId": "f8d26b8b-1fc0-4eab-9f16-32aea3b35087"
      },
      "source": [
        "np.argmax(y_pred[10])"
      ],
      "execution_count": 77,
      "outputs": [
        {
          "output_type": "execute_result",
          "data": {
            "text/plain": [
              "0"
            ]
          },
          "metadata": {
            "tags": []
          },
          "execution_count": 77
        }
      ]
    },
    {
      "cell_type": "code",
      "metadata": {
        "id": "raDCgmM1k37P",
        "colab_type": "code",
        "colab": {}
      },
      "source": [
        ""
      ],
      "execution_count": 99,
      "outputs": []
    },
    {
      "cell_type": "code",
      "metadata": {
        "id": "qK4BrIc2lP-3",
        "colab_type": "code",
        "colab": {}
      },
      "source": [
        ""
      ],
      "execution_count": null,
      "outputs": []
    }
  ]
}