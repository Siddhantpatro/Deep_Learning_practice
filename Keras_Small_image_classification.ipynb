{
  "nbformat": 4,
  "nbformat_minor": 0,
  "metadata": {
    "colab": {
      "name": "Keras_Small_image_classification.ipynb",
      "provenance": []
    },
    "kernelspec": {
      "name": "python3",
      "display_name": "Python 3"
    }
  },
  "cells": [
    {
      "cell_type": "code",
      "metadata": {
        "id": "1G5N3WSc15CY",
        "colab_type": "code",
        "colab": {}
      },
      "source": [
        "import tensorflow as tf\n",
        "from tensorflow import keras\n",
        "from tensorflow.keras import layers\n",
        "import numpy as np\n",
        "import matplotlib.pyplot as plt\n",
        "\n",
        "%matplotlib inline"
      ],
      "execution_count": 1,
      "outputs": []
    },
    {
      "cell_type": "code",
      "metadata": {
        "id": "GCtzS_E14XJa",
        "colab_type": "code",
        "colab": {
          "base_uri": "https://localhost:8080/",
          "height": 50
        },
        "outputId": "529d0bba-2f27-4d7b-ded2-4d0e5e586fcd"
      },
      "source": [
        "(x_train, y_train), (x_test, y_test) = keras.datasets.cifar10.load_data()"
      ],
      "execution_count": 2,
      "outputs": [
        {
          "output_type": "stream",
          "text": [
            "Downloading data from https://www.cs.toronto.edu/~kriz/cifar-10-python.tar.gz\n",
            "170500096/170498071 [==============================] - 11s 0us/step\n"
          ],
          "name": "stdout"
        }
      ]
    },
    {
      "cell_type": "code",
      "metadata": {
        "id": "Oe7xqgtG6t3Z",
        "colab_type": "code",
        "colab": {
          "base_uri": "https://localhost:8080/",
          "height": 34
        },
        "outputId": "6a2a50ae-2903-4f53-a712-cfc955dee593"
      },
      "source": [
        "x_train.shape"
      ],
      "execution_count": 3,
      "outputs": [
        {
          "output_type": "execute_result",
          "data": {
            "text/plain": [
              "(50000, 32, 32, 3)"
            ]
          },
          "metadata": {
            "tags": []
          },
          "execution_count": 3
        }
      ]
    },
    {
      "cell_type": "code",
      "metadata": {
        "id": "TZb6FzvE6yEQ",
        "colab_type": "code",
        "colab": {
          "base_uri": "https://localhost:8080/",
          "height": 34
        },
        "outputId": "e3c248ba-a373-461e-aa36-929fdbb6847b"
      },
      "source": [
        "y_train.shape"
      ],
      "execution_count": 4,
      "outputs": [
        {
          "output_type": "execute_result",
          "data": {
            "text/plain": [
              "(50000, 1)"
            ]
          },
          "metadata": {
            "tags": []
          },
          "execution_count": 4
        }
      ]
    },
    {
      "cell_type": "code",
      "metadata": {
        "id": "wp9UynYp61yf",
        "colab_type": "code",
        "colab": {
          "base_uri": "https://localhost:8080/",
          "height": 292
        },
        "outputId": "e03a7d31-6ede-417e-f1cd-ea596fbcc757"
      },
      "source": [
        "plt.matshow(x_test[1])"
      ],
      "execution_count": 5,
      "outputs": [
        {
          "output_type": "execute_result",
          "data": {
            "text/plain": [
              "<matplotlib.image.AxesImage at 0x7fe5a3ba9c50>"
            ]
          },
          "metadata": {
            "tags": []
          },
          "execution_count": 5
        },
        {
          "output_type": "display_data",
          "data": {
            "image/png": "[encoded data removed]",
            "text/plain": [
              "<Figure size 288x288 with 1 Axes>"
            ]
          },
          "metadata": {
            "tags": [],
            "needs_background": "light"
          }
        }
      ]
    },
    {
      "cell_type": "code",
      "metadata": {
        "id": "iID6eaI6B-o6",
        "colab_type": "code",
        "colab": {
          "base_uri": "https://localhost:8080/",
          "height": 292
        },
        "outputId": "eae3c62a-882a-4d5d-9364-01b2190e4fb6"
      },
      "source": [
        "plt.matshow(x_train[1])"
      ],
      "execution_count": 6,
      "outputs": [
        {
          "output_type": "execute_result",
          "data": {
            "text/plain": [
              "<matplotlib.image.AxesImage at 0x7fe5a37070b8>"
            ]
          },
          "metadata": {
            "tags": []
          },
          "execution_count": 6
        },
        {
          "output_type": "display_data",
          "data": {
            "image/png": "[encoded data removed]",
            "text/plain": [
              "<Figure size 288x288 with 1 Axes>"
            ]
          },
          "metadata": {
            "tags": [],
            "needs_background": "light"
          }
        }
      ]
    },
    {
      "cell_type": "code",
      "metadata": {
        "id": "tBPpadsZCFO9",
        "colab_type": "code",
        "colab": {
          "base_uri": "https://localhost:8080/",
          "height": 134
        },
        "outputId": "ae9766f5-035c-4b94-a759-fb3bc41ea36e"
      },
      "source": [
        "y_train"
      ],
      "execution_count": 7,
      "outputs": [
        {
          "output_type": "execute_result",
          "data": {
            "text/plain": [
              "array([[6],\n",
              "       [9],\n",
              "       [9],\n",
              "       ...,\n",
              "       [9],\n",
              "       [1],\n",
              "       [1]], dtype=uint8)"
            ]
          },
          "metadata": {
            "tags": []
          },
          "execution_count": 7
        }
      ]
    },
    {
      "cell_type": "code",
      "metadata": {
        "id": "mHI0TiD4U5cr",
        "colab_type": "code",
        "colab": {}
      },
      "source": [
        "model = keras.models.Sequential()\n",
        "\n",
        "inputs = keras.Input(shape=(32*32*3,))\n",
        "x = layers.Dense(600, activation=\"relu\", name=\"dense_1\")(inputs)\n",
        "x = layers.Dense(600, activation=\"relu\", name=\"dense_2\")(x)\n",
        "x = layers.Dense(600, activation=\"relu\", name=\"dense_3\")(x)\n",
        "outputs = layers.Dense(50, activation=\"softmax\", name=\"predictions\")(x)\n",
        "\n",
        "model = keras.Model(inputs=inputs, outputs=outputs)"
      ],
      "execution_count": 8,
      "outputs": []
    },
    {
      "cell_type": "code",
      "metadata": {
        "id": "FbxioiEjCkzj",
        "colab_type": "code",
        "colab": {}
      },
      "source": [
        "x_train = x_train.reshape(50000, 3072, -1).astype(\"float32\") / 255\n",
        "x_test = x_test.reshape(10000, 3072, -1).astype(\"float32\") /255"
      ],
      "execution_count": 9,
      "outputs": []
    },
    {
      "cell_type": "code",
      "metadata": {
        "id": "I9dED589epTt",
        "colab_type": "code",
        "colab": {}
      },
      "source": [
        "y_train = y_train.astype(\"float32\")\n",
        "y_test = y_test.astype(\"float32\")"
      ],
      "execution_count": 10,
      "outputs": []
    },
    {
      "cell_type": "code",
      "metadata": {
        "id": "8glxWdDqGqZ8",
        "colab_type": "code",
        "colab": {
          "base_uri": "https://localhost:8080/",
          "height": 319
        },
        "outputId": "7f02ea98-724c-4f6e-e3ba-a387f4b3a0ee"
      },
      "source": [
        "model.summary()"
      ],
      "execution_count": 11,
      "outputs": [
        {
          "output_type": "stream",
          "text": [
            "Model: \"model\"\n",
            "_________________________________________________________________\n",
            "Layer (type)                 Output Shape              Param #   \n",
            "=================================================================\n",
            "input_1 (InputLayer)         [(None, 3072)]            0         \n",
            "_________________________________________________________________\n",
            "dense_1 (Dense)              (None, 600)               1843800   \n",
            "_________________________________________________________________\n",
            "dense_2 (Dense)              (None, 600)               360600    \n",
            "_________________________________________________________________\n",
            "dense_3 (Dense)              (None, 600)               360600    \n",
            "_________________________________________________________________\n",
            "predictions (Dense)          (None, 50)                30050     \n",
            "=================================================================\n",
            "Total params: 2,595,050\n",
            "Trainable params: 2,595,050\n",
            "Non-trainable params: 0\n",
            "_________________________________________________________________\n"
          ],
          "name": "stdout"
        }
      ]
    },
    {
      "cell_type": "code",
      "metadata": {
        "id": "2F4dQndEGr87",
        "colab_type": "code",
        "colab": {
          "base_uri": "https://localhost:8080/",
          "height": 34
        },
        "outputId": "56da1960-2fcf-4efc-a70a-d8bd935792d9"
      },
      "source": [
        "from keras import optimizers\n",
        "\n",
        "model.compile(loss = keras.losses.SparseCategoricalCrossentropy(),\n",
        "              optimizer = keras.optimizers.Adamax(learning_rate=0.001),\n",
        "              metrics = [keras.metrics.SparseCategoricalAccuracy()])"
      ],
      "execution_count": 12,
      "outputs": [
        {
          "output_type": "stream",
          "text": [
            "Using TensorFlow backend.\n"
          ],
          "name": "stderr"
        }
      ]
    },
    {
      "cell_type": "code",
      "metadata": {
        "id": "kzHOjlyiHUBX",
        "colab_type": "code",
        "colab": {
          "base_uri": "https://localhost:8080/",
          "height": 706
        },
        "outputId": "bbf2fd62-1c0f-471e-9b2a-82505b0b84de"
      },
      "source": [
        "model.fit(x_train,y_train, epochs = 20, batch_size=64)"
      ],
      "execution_count": 13,
      "outputs": [
        {
          "output_type": "stream",
          "text": [
            "Epoch 1/20\n",
            "782/782 [==============================] - 21s 26ms/step - loss: 1.8501 - sparse_categorical_accuracy: 0.3359\n",
            "Epoch 2/20\n",
            "782/782 [==============================] - 21s 26ms/step - loss: 1.6333 - sparse_categorical_accuracy: 0.4163\n",
            "Epoch 3/20\n",
            "782/782 [==============================] - 21s 26ms/step - loss: 1.5400 - sparse_categorical_accuracy: 0.4502\n",
            "Epoch 4/20\n",
            "782/782 [==============================] - 21s 26ms/step - loss: 1.4800 - sparse_categorical_accuracy: 0.4698\n",
            "Epoch 5/20\n",
            "782/782 [==============================] - 21s 26ms/step - loss: 1.4274 - sparse_categorical_accuracy: 0.4891\n",
            "Epoch 6/20\n",
            "782/782 [==============================] - 21s 27ms/step - loss: 1.3751 - sparse_categorical_accuracy: 0.5090\n",
            "Epoch 7/20\n",
            "782/782 [==============================] - 21s 26ms/step - loss: 1.3346 - sparse_categorical_accuracy: 0.5237\n",
            "Epoch 8/20\n",
            "782/782 [==============================] - 21s 26ms/step - loss: 1.2899 - sparse_categorical_accuracy: 0.5416\n",
            "Epoch 9/20\n",
            "782/782 [==============================] - 21s 26ms/step - loss: 1.2470 - sparse_categorical_accuracy: 0.5566\n",
            "Epoch 10/20\n",
            "782/782 [==============================] - 21s 26ms/step - loss: 1.2070 - sparse_categorical_accuracy: 0.5703\n",
            "Epoch 11/20\n",
            "782/782 [==============================] - 21s 26ms/step - loss: 1.1687 - sparse_categorical_accuracy: 0.5851\n",
            "Epoch 12/20\n",
            "782/782 [==============================] - 21s 27ms/step - loss: 1.1273 - sparse_categorical_accuracy: 0.5986\n",
            "Epoch 13/20\n",
            "782/782 [==============================] - 21s 26ms/step - loss: 1.0894 - sparse_categorical_accuracy: 0.6135\n",
            "Epoch 14/20\n",
            "782/782 [==============================] - 21s 26ms/step - loss: 1.0443 - sparse_categorical_accuracy: 0.6290\n",
            "Epoch 15/20\n",
            "782/782 [==============================] - 21s 26ms/step - loss: 1.0089 - sparse_categorical_accuracy: 0.6416\n",
            "Epoch 16/20\n",
            "782/782 [==============================] - 21s 26ms/step - loss: 0.9640 - sparse_categorical_accuracy: 0.6575\n",
            "Epoch 17/20\n",
            "782/782 [==============================] - 21s 26ms/step - loss: 0.9301 - sparse_categorical_accuracy: 0.6679\n",
            "Epoch 18/20\n",
            "782/782 [==============================] - 21s 26ms/step - loss: 0.8793 - sparse_categorical_accuracy: 0.6904\n",
            "Epoch 19/20\n",
            "782/782 [==============================] - 21s 27ms/step - loss: 0.8449 - sparse_categorical_accuracy: 0.7008\n",
            "Epoch 20/20\n",
            "782/782 [==============================] - 21s 27ms/step - loss: 0.7969 - sparse_categorical_accuracy: 0.7173\n"
          ],
          "name": "stdout"
        },
        {
          "output_type": "execute_result",
          "data": {
            "text/plain": [
              "<tensorflow.python.keras.callbacks.History at 0x7fe59cee6ba8>"
            ]
          },
          "metadata": {
            "tags": []
          },
          "execution_count": 13
        }
      ]
    },
    {
      "cell_type": "code",
      "metadata": {
        "id": "SivcmkioOUbE",
        "colab_type": "code",
        "colab": {
          "base_uri": "https://localhost:8080/",
          "height": 34
        },
        "outputId": "9f1f3fa2-cd8e-4467-8610-b9479d3812c6"
      },
      "source": [
        "x_test.shape"
      ],
      "execution_count": 14,
      "outputs": [
        {
          "output_type": "execute_result",
          "data": {
            "text/plain": [
              "(10000, 3072, 1)"
            ]
          },
          "metadata": {
            "tags": []
          },
          "execution_count": 14
        }
      ]
    },
    {
      "cell_type": "code",
      "metadata": {
        "id": "jaKldPxEOUd_",
        "colab_type": "code",
        "colab": {
          "base_uri": "https://localhost:8080/",
          "height": 50
        },
        "outputId": "c1c1ac95-749d-4743-e897-9a339954ce02"
      },
      "source": [
        "model.evaluate(x_test, y_test)"
      ],
      "execution_count": 15,
      "outputs": [
        {
          "output_type": "stream",
          "text": [
            "313/313 [==============================] - 2s 6ms/step - loss: 1.4256 - sparse_categorical_accuracy: 0.5383\n"
          ],
          "name": "stdout"
        },
        {
          "output_type": "execute_result",
          "data": {
            "text/plain": [
              "[1.4255855083465576, 0.5382999777793884]"
            ]
          },
          "metadata": {
            "tags": []
          },
          "execution_count": 15
        }
      ]
    },
    {
      "cell_type": "code",
      "metadata": {
        "id": "cwxm0oKtkOSk",
        "colab_type": "code",
        "colab": {}
      },
      "source": [
        "y_pred = model.predict(x_test)"
      ],
      "execution_count": 16,
      "outputs": []
    },
    {
      "cell_type": "code",
      "metadata": {
        "id": "d5t8WONClojf",
        "colab_type": "code",
        "colab": {}
      },
      "source": [
        "y_pred = np.array(y_pred)"
      ],
      "execution_count": 17,
      "outputs": []
    },
    {
      "cell_type": "code",
      "metadata": {
        "id": "rR4ur7Caqyzg",
        "colab_type": "code",
        "colab": {
          "base_uri": "https://localhost:8080/",
          "height": 235
        },
        "outputId": "33a204c8-b70a-431d-82be-fbdc993b10c9"
      },
      "source": [
        "y_pred"
      ],
      "execution_count": 18,
      "outputs": [
        {
          "output_type": "execute_result",
          "data": {
            "text/plain": [
              "array([[4.82837204e-03, 2.63626711e-03, 1.11349337e-02, ...,\n",
              "        4.02784250e-17, 2.32264269e-16, 9.92548112e-17],\n",
              "       [9.56625305e-03, 1.08875327e-01, 1.36186304e-02, ...,\n",
              "        2.07936572e-15, 8.73717534e-15, 3.13105051e-15],\n",
              "       [4.62793559e-01, 1.38873234e-01, 9.91459005e-04, ...,\n",
              "        1.32969200e-12, 5.89751598e-12, 1.36063806e-12],\n",
              "       ...,\n",
              "       [6.48364052e-03, 1.59552146e-05, 3.16033214e-01, ...,\n",
              "        2.02665487e-17, 9.47261512e-18, 8.77197246e-18],\n",
              "       [1.13099557e-03, 1.69930754e-05, 1.04344515e-02, ...,\n",
              "        2.63434410e-17, 1.07148860e-16, 8.91248266e-17],\n",
              "       [7.14677060e-03, 7.88352045e-04, 2.53928844e-02, ...,\n",
              "        1.97499365e-13, 2.47455268e-13, 6.45171037e-14]], dtype=float32)"
            ]
          },
          "metadata": {
            "tags": []
          },
          "execution_count": 18
        }
      ]
    },
    {
      "cell_type": "code",
      "metadata": {
        "id": "2jdD9pYNkSdQ",
        "colab_type": "code",
        "colab": {
          "base_uri": "https://localhost:8080/",
          "height": 34
        },
        "outputId": "be5e24d3-ef08-4cce-d369-3a310e82ff6d"
      },
      "source": [
        "y_pred.shape"
      ],
      "execution_count": 19,
      "outputs": [
        {
          "output_type": "execute_result",
          "data": {
            "text/plain": [
              "(10000, 50)"
            ]
          },
          "metadata": {
            "tags": []
          },
          "execution_count": 19
        }
      ]
    },
    {
      "cell_type": "code",
      "metadata": {
        "id": "IqF7fZ7qkWpw",
        "colab_type": "code",
        "colab": {
          "base_uri": "https://localhost:8080/",
          "height": 235
        },
        "outputId": "10c0f8e0-585a-45fd-f35d-705ece2cbc10"
      },
      "source": [
        "y_pred[1]"
      ],
      "execution_count": 20,
      "outputs": [
        {
          "output_type": "execute_result",
          "data": {
            "text/plain": [
              "array([9.56625305e-03, 1.08875327e-01, 1.36186304e-02, 7.11120549e-04,\n",
              "       2.74425722e-04, 2.97651190e-04, 2.07447792e-05, 6.50164671e-04,\n",
              "       7.91677594e-01, 7.43080005e-02, 1.61209936e-14, 6.07097905e-15,\n",
              "       3.76968794e-14, 3.86348541e-15, 1.57182041e-14, 3.17752111e-14,\n",
              "       1.33878377e-14, 1.00772026e-14, 2.09838742e-14, 3.19793647e-15,\n",
              "       6.27680001e-15, 1.11790036e-14, 9.94829439e-15, 1.69018767e-14,\n",
              "       1.06577251e-14, 2.39752040e-15, 4.23077965e-15, 5.88886528e-15,\n",
              "       2.43200820e-15, 2.18418033e-14, 7.74221487e-15, 1.65922336e-14,\n",
              "       4.99751006e-15, 2.40635453e-14, 6.13963658e-15, 9.19870242e-15,\n",
              "       6.90885346e-15, 8.17201379e-15, 8.53009188e-15, 6.47281148e-15,\n",
              "       2.12858007e-14, 1.27907091e-14, 2.46036623e-15, 1.46177050e-14,\n",
              "       1.15648136e-14, 4.25061250e-15, 3.49702058e-14, 2.07936572e-15,\n",
              "       8.73717534e-15, 3.13105051e-15], dtype=float32)"
            ]
          },
          "metadata": {
            "tags": []
          },
          "execution_count": 20
        }
      ]
    },
    {
      "cell_type": "code",
      "metadata": {
        "id": "V5aVbkXXkZqF",
        "colab_type": "code",
        "colab": {
          "base_uri": "https://localhost:8080/",
          "height": 34
        },
        "outputId": "f09a9c5f-0248-4669-9244-4650717142ab"
      },
      "source": [
        "np.argmax(y_pred[1])"
      ],
      "execution_count": 21,
      "outputs": [
        {
          "output_type": "execute_result",
          "data": {
            "text/plain": [
              "8"
            ]
          },
          "metadata": {
            "tags": []
          },
          "execution_count": 21
        }
      ]
    },
    {
      "cell_type": "code",
      "metadata": {
        "id": "Ma10EFBGkd6g",
        "colab_type": "code",
        "colab": {
          "base_uri": "https://localhost:8080/",
          "height": 235
        },
        "outputId": "88e7faf3-0b87-4b6e-dc64-347422284572"
      },
      "source": [
        "y_pred[20]"
      ],
      "execution_count": 22,
      "outputs": [
        {
          "output_type": "execute_result",
          "data": {
            "text/plain": [
              "array([2.52900971e-03, 1.77831113e-01, 8.94795754e-04, 2.39727320e-03,\n",
              "       4.17814143e-02, 3.99967004e-03, 2.38929177e-03, 4.23699543e-02,\n",
              "       3.66330938e-03, 7.22144186e-01, 2.31607713e-15, 8.87666600e-16,\n",
              "       2.27788335e-15, 1.15064682e-15, 2.59395285e-15, 1.64517886e-15,\n",
              "       2.28399131e-15, 2.01793868e-15, 1.61906123e-15, 2.10136825e-15,\n",
              "       2.37344476e-15, 1.16225351e-15, 4.18104489e-16, 8.13137442e-16,\n",
              "       8.36376849e-16, 2.73713805e-15, 6.56847951e-16, 1.23404018e-15,\n",
              "       2.45153400e-15, 2.16243128e-15, 1.89054366e-15, 1.26806994e-15,\n",
              "       1.34532015e-14, 3.48110213e-16, 1.67090187e-15, 8.85100249e-16,\n",
              "       2.49285799e-15, 2.85156209e-16, 1.78710611e-15, 4.78551592e-16,\n",
              "       1.49617645e-15, 4.97956747e-16, 3.53143282e-16, 5.17329078e-16,\n",
              "       4.04698525e-16, 6.03839200e-16, 7.57701994e-16, 1.44960742e-15,\n",
              "       2.14375420e-15, 1.03699597e-15], dtype=float32)"
            ]
          },
          "metadata": {
            "tags": []
          },
          "execution_count": 22
        }
      ]
    },
    {
      "cell_type": "code",
      "metadata": {
        "id": "rFETHJlOkjkM",
        "colab_type": "code",
        "colab": {
          "base_uri": "https://localhost:8080/",
          "height": 34
        },
        "outputId": "a401a2e1-44ef-4295-b355-ba25cb04c615"
      },
      "source": [
        "np.argmax(y_pred[20])"
      ],
      "execution_count": 23,
      "outputs": [
        {
          "output_type": "execute_result",
          "data": {
            "text/plain": [
              "9"
            ]
          },
          "metadata": {
            "tags": []
          },
          "execution_count": 23
        }
      ]
    },
    {
      "cell_type": "code",
      "metadata": {
        "id": "qK4BrIc2lP-3",
        "colab_type": "code",
        "colab": {}
      },
      "source": [
        ""
      ],
      "execution_count": null,
      "outputs": []
    }
  ]
}